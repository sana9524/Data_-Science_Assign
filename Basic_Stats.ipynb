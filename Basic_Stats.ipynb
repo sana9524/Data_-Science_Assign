{
  "nbformat": 4,
  "nbformat_minor": 0,
  "metadata": {
    "colab": {
      "provenance": [],
      "authorship_tag": "ABX9TyNm7NxfAmmC7JWsAste50/f",
      "include_colab_link": true
    },
    "kernelspec": {
      "name": "python3",
      "display_name": "Python 3"
    },
    "language_info": {
      "name": "python"
    }
  },
  "cells": [
    {
      "cell_type": "markdown",
      "metadata": {
        "id": "view-in-github",
        "colab_type": "text"
      },
      "source": [
        "<a href=\"https://colab.research.google.com/github/sana9524/Data_-Science_Assign/blob/main/Basic_Stats.ipynb\" target=\"_parent\"><img src=\"https://colab.research.google.com/assets/colab-badge.svg\" alt=\"Open In Colab\"/></a>"
      ]
    },
    {
      "cell_type": "code",
      "execution_count": null,
      "metadata": {
        "id": "AuzHZ5JgaBWj"
      },
      "outputs": [],
      "source": [
        "import pandas as pd\n",
        "import numpy as np\n",
        "import matplotlib.pyplot as plt\n",
        "import scipy.stats as stats\n",
        "from scipy.stats import norm\n",
        "import seaborn as sns\n",
        "import warnings\n",
        "warnings.filterwarnings('ignore')\n"
      ]
    },
    {
      "cell_type": "markdown",
      "source": [
        "1. The time required for servicing transmissions is normally distributed with mew = 45 minutes and SD = 8 minutes. The service manager plans to have work begin on the transmission of a customer’s car 10 minutes after the car is dropped off and the customer is told that the car will be ready within 1 hour from drop-off. What is the probability that the service manager cannot meet his commitment?\n",
        "A. 0.3875\n",
        "B. 0.2676\n",
        "C. 0.5\n",
        "D. 0.6987\n"
      ],
      "metadata": {
        "id": "VnubLo1HaHFf"
      }
    },
    {
      "cell_type": "code",
      "source": [
        "# The service of car will began after 10 min of car dropped off so 45+8= 55min\n",
        "#  if work will start after 10min then it will take more than 1 hour to complete this task\n",
        "mew =55\n",
        "std = 8\n",
        "P= stats.norm.sf(60,loc=mew,scale=std)\n",
        "print(\"The probability that the service manager cannot meet his commitment is\", round(P,4))"
      ],
      "metadata": {
        "colab": {
          "base_uri": "https://localhost:8080/"
        },
        "id": "N4DqR0jNaE5i",
        "outputId": "9686b708-993d-4597-8f76-8fb0c83ea291"
      },
      "execution_count": null,
      "outputs": [
        {
          "output_type": "stream",
          "name": "stdout",
          "text": [
            "The probability that the service manager cannot meet his commitment is 0.266\n"
          ]
        }
      ]
    },
    {
      "cell_type": "markdown",
      "source": [
        "Question 2. The current age (in years) of 400 clerical employees at an insurance claims processing center is normally distributed with mean  = 38 and Standard deviation  =6. For each statement below, please specify True/False. If false, briefly explain why.\n",
        "A. More employees at the processing center are older than 44 than between 38 and 44.\n",
        "\n",
        "B. A training program for employees under the age of 30 at the center would be expected to attract about 36 employees.\n",
        "\n",
        "A. More employees at the processing center are older than 44 than between 38 and 44.\n"
      ],
      "metadata": {
        "id": "l4Em2EdLaRZ0"
      }
    },
    {
      "cell_type": "code",
      "source": [
        "# Employees older than 44(X>44)\n",
        "1-stats.norm.cdf(44,loc=38,scale=6)\n"
      ],
      "metadata": {
        "colab": {
          "base_uri": "https://localhost:8080/"
        },
        "id": "RjWgvgYxaE8e",
        "outputId": "6da6377d-0188-47ff-ffed-a398f14508b1"
      },
      "execution_count": null,
      "outputs": [
        {
          "output_type": "execute_result",
          "data": {
            "text/plain": [
              "0.15865525393145707"
            ]
          },
          "metadata": {},
          "execution_count": 3
        }
      ]
    },
    {
      "cell_type": "markdown",
      "source": [
        "B. A training program for employees under the age of 30 at the center would be expected to attract about 36 employees."
      ],
      "metadata": {
        "id": "8rMTnt77agS5"
      }
    },
    {
      "cell_type": "code",
      "source": [
        "\n",
        "# Employees under age of 30 (X<30)\n",
        "stats.norm.cdf(30,loc=38,scale=6)"
      ],
      "metadata": {
        "colab": {
          "base_uri": "https://localhost:8080/"
        },
        "id": "d_hF9bMgaE_Z",
        "outputId": "298642cb-9be6-4661-8d7f-faa7294ae8cd"
      },
      "execution_count": null,
      "outputs": [
        {
          "output_type": "execute_result",
          "data": {
            "text/plain": [
              "0.09121121972586788"
            ]
          },
          "metadata": {},
          "execution_count": 4
        }
      ]
    },
    {
      "cell_type": "code",
      "source": [
        "\n",
        "#  The center would be the expected to attact about 36 employees\n",
        "400*stats.norm.cdf(30,loc=38,scale=6)"
      ],
      "metadata": {
        "colab": {
          "base_uri": "https://localhost:8080/"
        },
        "id": "V-6f4qkDaFCm",
        "outputId": "315fd8a9-7fb4-4e00-a5cc-d0d1c83531ff"
      },
      "execution_count": null,
      "outputs": [
        {
          "output_type": "execute_result",
          "data": {
            "text/plain": [
              "36.484487890347154"
            ]
          },
          "metadata": {},
          "execution_count": 5
        }
      ]
    },
    {
      "cell_type": "markdown",
      "source": [
        "4. Let X ~ N(100, 202). Find two values, a and b, symmetric about the mean, such that the probability of the random variable taking a value between them is 0.99.\n",
        "A. 90.5, 105.9\n",
        "\n",
        "B. 80.2, 119.8\n",
        "\n",
        "C. 22, 78 D. 48.5, 151.5\n",
        "\n",
        "E. 90.1, 109.9"
      ],
      "metadata": {
        "id": "TiFTtjeJap7D"
      }
    },
    {
      "cell_type": "code",
      "source": [
        "a=stats.norm.interval(0.99,loc=100,scale=20)\n",
        "print(\" two values, a and b, symmetric about the mean, such that the probability of the random variable taking a value between them is\", np.round(a,2))\n"
      ],
      "metadata": {
        "colab": {
          "base_uri": "https://localhost:8080/"
        },
        "id": "kBioRFi9aFFN",
        "outputId": "ccc94ccf-9347-433d-fffa-dd5d24424648"
      },
      "execution_count": null,
      "outputs": [
        {
          "output_type": "stream",
          "name": "stdout",
          "text": [
            " two values, a and b, symmetric about the mean, such that the probability of the random variable taking a value between them is [ 48.48 151.52]\n"
          ]
        }
      ]
    },
    {
      "cell_type": "markdown",
      "source": [
        " Consider a company that has two different divisions. The annual profits from the two divisions are independent and have distributions Profit1 ~ N(5, 32) and Profit2 ~ N(7, 42) respectively. Both the profits are in Million. Answer the following questions about the total profit of the company in Rupees. Assume that $1 = Rs. 45\n",
        "A. Specify a Rupee range (centered on the mean) such that it contains 95% probability for the annual profit of the company.\n",
        "B. Specify the 5th percentile of profit (in Rupees) for the company\n",
        "C. Which of the two divisions has a larger probability of making a loss in a given year?\n"
      ],
      "metadata": {
        "id": "3hZsxJ5DbkXG"
      }
    },
    {
      "cell_type": "code",
      "source": [
        "#Combine mean profit of both division Mean= mean1+mean2\n",
        "mean1=5\n",
        "mean2=7\n",
        "Mean=mean1+mean2\n",
        "print(\"The mean profit of both division is \",(Mean*45)/10 ,\"Crore Rupees\")\n",
        "# Combine standard Deviation = (Std1^2 + Std2^2)^1/2\n",
        "std1 = 3**2\n",
        "std2 = 4**2\n",
        "Std = np.sqrt(std1 + std2)\n",
        "print('The Standard Deviation of both division:', Std, 'Million$')\n",
        "print('The Standard Deviation of both division:', (Std*45)/10, 'Crore Rupees')"
      ],
      "metadata": {
        "colab": {
          "base_uri": "https://localhost:8080/"
        },
        "id": "c8lJCKsqaFIl",
        "outputId": "bc7b3c51-53ec-4291-fff5-a8ddf83908ab"
      },
      "execution_count": null,
      "outputs": [
        {
          "output_type": "stream",
          "name": "stdout",
          "text": [
            "The mean profit of both division is  54.0 Crore Rupees\n",
            "The Standard Deviation of both division: 5.0 Million$\n",
            "The Standard Deviation of both division: 22.5 Crore Rupees\n"
          ]
        }
      ]
    },
    {
      "cell_type": "markdown",
      "source": [
        "A. Specify a Rupee range (centered on the mean) such that it contains 95% probability for the annual profit of the company."
      ],
      "metadata": {
        "id": "6dn1D-y1bsEg"
      }
    },
    {
      "cell_type": "code",
      "source": [
        "r1,r2=np.round(stats.norm.interval(0.95,Mean,Std),2)\n",
        "print('The annual profit of the company is:',r1, 'to',r2, ' Million doller in 95% of the time')\n",
        "print('The annual profit of the company in 95% of the time is :-' ,((r1*45)/10), 'to', ((r2*45)/10), 'Crore Rupees in annual profit of 95% of the time ' )\n"
      ],
      "metadata": {
        "colab": {
          "base_uri": "https://localhost:8080/"
        },
        "id": "HxwMHW98aFMC",
        "outputId": "86322725-4372-41c0-e66f-8f42f5e41c8e"
      },
      "execution_count": null,
      "outputs": [
        {
          "output_type": "stream",
          "name": "stdout",
          "text": [
            "The annual profit of the company is: 2.2 to 21.8  Million doller in 95% of the time\n",
            "The annual profit of the company in 95% of the time is :- 9.900000000000002 to 98.1 Crore Rupees in annual profit of 95% of the time \n"
          ]
        }
      ]
    },
    {
      "cell_type": "markdown",
      "source": [
        "B. Specify the 5th percentile of profit (in Rupees) for the company"
      ],
      "metadata": {
        "id": "8ny_z0apb0Sg"
      }
    },
    {
      "cell_type": "code",
      "source": [
        "print('5th Percentile of the profit for the company is:- ', np.percentile(Std+Mean,5),'Crore Rupees')\n"
      ],
      "metadata": {
        "colab": {
          "base_uri": "https://localhost:8080/"
        },
        "id": "UAFzamPrb1wP",
        "outputId": "da4ee827-fa8b-437d-fb79-c0e9fc8be547"
      },
      "execution_count": null,
      "outputs": [
        {
          "output_type": "stream",
          "name": "stdout",
          "text": [
            "5th Percentile of the profit for the company is:-  17.0 Crore Rupees\n"
          ]
        }
      ]
    },
    {
      "cell_type": "markdown",
      "source": [
        "C. Which of the two divisions has a larger probability of making a loss in a given year?"
      ],
      "metadata": {
        "id": "w1qFjiPGb8q9"
      }
    },
    {
      "cell_type": "code",
      "source": [
        "\n",
        "mean1=5\n",
        "mean2=7\n",
        "Mean=mean1+mean2\n",
        "std1=np.sqrt(32)\n",
        "std2=np.sqrt(42)\n",
        "p_loss1=np.round(stats.norm.cdf(0,mean1,std1)*100,2)\n",
        "p_loss2=np.round(stats.norm.cdf(0,mean2,std2)*100,2)\n",
        "print('The probability of division 1 making loss is: ',p_loss1,'%')\n",
        "print('The probability of division 1 making loss is: ',p_loss2,'%')\n",
        "if p_loss1>p_loss2:\n",
        "  print('Division 1 has a larger probability of making loss')\n",
        "else:\n",
        "  print('Division 2 has a larger probability of making loss')"
      ],
      "metadata": {
        "colab": {
          "base_uri": "https://localhost:8080/"
        },
        "id": "oTrWcOVub134",
        "outputId": "67b4176b-fc59-4508-f1a4-ea8d1814fdd0"
      },
      "execution_count": null,
      "outputs": [
        {
          "output_type": "stream",
          "name": "stdout",
          "text": [
            "The probability of division 1 making loss is:  18.84 %\n",
            "The probability of division 1 making loss is:  14.0 %\n",
            "Division 1 has a larger probability of making loss\n"
          ]
        }
      ]
    }
  ]
}